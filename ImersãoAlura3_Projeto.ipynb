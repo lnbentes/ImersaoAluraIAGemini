{
  "nbformat": 4,
  "nbformat_minor": 0,
  "metadata": {
    "colab": {
      "provenance": [],
      "authorship_tag": "ABX9TyMW5azOPjJV3sH1vz9nQmiN",
      "include_colab_link": true
    },
    "kernelspec": {
      "name": "python3",
      "display_name": "Python 3"
    },
    "language_info": {
      "name": "python"
    }
  },
  "cells": [
    {
      "cell_type": "markdown",
      "metadata": {
        "id": "view-in-github",
        "colab_type": "text"
      },
      "source": [
        "<a href=\"https://colab.research.google.com/github/lnbentes/ImersaoAluraIAGemini/blob/main/Imers%C3%A3oAlura3_Projeto.ipynb\" target=\"_parent\"><img src=\"https://colab.research.google.com/assets/colab-badge.svg\" alt=\"Open In Colab\"/></a>"
      ]
    },
    {
      "cell_type": "markdown",
      "source": [
        "# Esse projeto visa criar um bot no qual utilizamos agentes para poder processar uma list de compra fornecida pelo usuária, identificar os supermercado ao redor do endereço fornecido e retorna a lista com os melhores preços da sua região."
      ],
      "metadata": {
        "id": "q3v9YeqVNSmy"
      }
    },
    {
      "cell_type": "code",
      "execution_count": 2,
      "metadata": {
        "id": "7uVgXBm0NJms"
      },
      "outputs": [],
      "source": [
        "# podemos usar o !pip para realizar instalacoes em python\n",
        "!pip install -q google-genai"
      ]
    },
    {
      "cell_type": "code",
      "source": [
        "import os\n",
        "from google.colab import userdata\n",
        "\n",
        "os.environ[\"GOOGLE_API_KEY\"] = userdata.get('GOOGLE_API_KEY_ALURA')"
      ],
      "metadata": {
        "id": "8DW1CIjFOC13"
      },
      "execution_count": 3,
      "outputs": []
    },
    {
      "cell_type": "code",
      "source": [
        "!pip install -q google-adk #-q não mostra todo o texto da instalação"
      ],
      "metadata": {
        "id": "HHLo0pjETROH"
      },
      "execution_count": null,
      "outputs": []
    },
    {
      "cell_type": "code",
      "source": [
        "from google.adk.agents import Agent\n",
        "from google.adk.runners import Runner\n",
        "from google.adk.sessions import InMemorySessionService\n",
        "from google.adk.tools import google_search\n",
        "from google.genai import types  # Para criar conteúdos (Content e Part)\n",
        "from datetime import date\n",
        "import textwrap # Para formatar melhor a saída de texto\n",
        "from IPython.display import display, Markdown # Para exibir texto formatado no Colab\n",
        "import requests # Para fazer requisições HTTP\n",
        "import warnings\n",
        "import ast\n",
        "\n",
        "warnings.filterwarnings(\"ignore\")"
      ],
      "metadata": {
        "id": "-L9zo5JqTh_l"
      },
      "execution_count": 5,
      "outputs": []
    },
    {
      "cell_type": "code",
      "source": [
        "# Função auxiliar que envia uma mensagem para um agente via Runner e retorna a resposta final (Ele e o arquestrador)\n",
        "def call_agent(agent: Agent, message_text: str) -> str:\n",
        "    # Cria um serviço de sessão em memória\n",
        "    session_service = InMemorySessionService()\n",
        "    # Cria uma nova sessão (você pode personalizar os IDs conforme necessário)\n",
        "    session = session_service.create_session(app_name=agent.name, user_id=\"user1\", session_id=\"session1\")\n",
        "    # Cria um Runner para o agente\n",
        "    runner = Runner(agent=agent, app_name=agent.name, session_service=session_service)\n",
        "    # Cria o conteúdo da mensagem de entrada\n",
        "    content = types.Content(role=\"user\", parts=[types.Part(text=message_text)])\n",
        "\n",
        "    final_response = \"\"\n",
        "    # Itera assincronamente pelos eventos retornados durante a execução do agente\n",
        "    for event in runner.run(user_id=\"user1\", session_id=\"session1\", new_message=content):\n",
        "        if event.is_final_response():\n",
        "          for part in event.content.parts:\n",
        "            if part.text is not None:\n",
        "              final_response += part.text\n",
        "              final_response += \"\\n\"\n",
        "    return final_response"
      ],
      "metadata": {
        "id": "lpUV7xybVfyw"
      },
      "execution_count": 6,
      "outputs": []
    },
    {
      "cell_type": "code",
      "source": [
        "# Função auxiliar para exibir texto formatado em Markdown no Colab\n",
        "def to_markdown(text):\n",
        "  text = text.replace('•', '  *')\n",
        "  return Markdown(textwrap.indent(text, '> ', predicate=lambda _: True))"
      ],
      "metadata": {
        "id": "g7N3fYySVkwS"
      },
      "execution_count": 7,
      "outputs": []
    },
    {
      "cell_type": "code",
      "source": [
        "###############################################\n",
        "# --- Agente 1: Buscador de Supermecardos --- #\n",
        "###############################################\n",
        "def agente_buscador_supermercado(endereco, data_de_hoje):\n",
        "    buscador_supermercado = Agent(\n",
        "        name=\"agente_buscador\",\n",
        "        model=\"gemini-2.5-pro-preview-03-25\",\n",
        "        instruction=\"\"\"\n",
        "        Você é um assistente de pesquisa. A sua tarefa é usar a ferramenta de busca do google (google_search)\n",
        "        para localizar os suplermercados perto da localização do usuario e retornara o nome dos três mais pertos.\n",
        "\n",
        "        Contexto:\n",
        "        retorne uma lista somente com os nomes dos supermercados;\n",
        "        Na lista senha um chave de nome e endereço;\n",
        "        Se não tiver endereço coloque -;\n",
        "        Seja direto e sucinto;\n",
        "        Apresnete comente a lista e mais nada;\n",
        "\n",
        "        Exemplo de retorno:\n",
        "        Nome: Supermercado Carone Endereço na Av. Hugo Viola, 615, Jardim da Penha.\n",
        "        Nome: Supermercados BH Endereço: Pça Regina Frigeri Furno, 210, Jardim da Penha.\n",
        "        Nome: Extraplus de Jardim da Penha Endereço: -\n",
        "        \"\"\",\n",
        "        description=\"Agente que busca informações no Google\",\n",
        "        tools=[google_search]\n",
        "    )\n",
        "\n",
        "    entrada_do_agente_buscador_supermercado = f\"Localização/Endereço: {endereco}\\nData de hoje: {data_de_hoje}\"\n",
        "\n",
        "    lancamentos = call_agent(buscador_supermercado, entrada_do_agente_buscador_supermercado)\n",
        "\n",
        "    return lancamentos"
      ],
      "metadata": {
        "id": "9vZJsNo5HQJR"
      },
      "execution_count": 35,
      "outputs": []
    },
    {
      "cell_type": "code",
      "source": [
        "######################################\n",
        "# --- Agente 2: Formatar a lista --- #\n",
        "######################################\n",
        "def agente_formatador(lista):\n",
        "    formatador = Agent(\n",
        "        name=\"agente_formatador\",\n",
        "        model=\"gemini-2.0-flash\",\n",
        "        instruction=\"\"\"\n",
        "            Você é um experiente proficional que pega uma lista de texto e converte ela no estilo list em python.\n",
        "\n",
        "            Contexto:\n",
        "            retorne uma lista sestile list em python;\n",
        "            Seja direto e sucinto na analise e resposta;\n",
        "            Não precisa mostrar a sua análise, somente a resposta do retorno;\n",
        "            Não precisa adicionar texto como Python antes da lista;\n",
        "            Retorne somente a lista, sem texto adicionais;\n",
        "\n",
        "            Exemplo 1 do que não deve retornar:\n",
        "            ```python\n",
        "            ['Feijão', 'Shampoo', 'Ferro de Passar', 'Sabão em pó', 'Amaciante', 'Biscoito recheado', 'Picanha 1kg', 'Arroz tipo 1']\n",
        "            ```\n",
        "            Exemplo 2 de que não deve retornar:\n",
        "            python ['Barbosa Supermercados Loja São Judas', 'Supermercados São Judas Tadeu', 'Supermercado Porto Seguro Sao Judas']\n",
        "\n",
        "            Exemplo 1 de retorno correto:\n",
        "            ['Feijão', 'Shampoo', 'Ferro de Passar', 'Sabão em pó', 'Amaciante', 'Biscoito recheado', 'Picanha', 'Ervilha']\n",
        "            Exemplo 2 de retorno correto:\n",
        "            ['Barbosa Supermercados Loja São Judas', 'Supermercados São Judas Tadeu', 'Supermercado Porto Seguro Sao Judas']\n",
        "            \"\"\",\n",
        "        description=\"Agente de converter lista em Python\"\n",
        "    )\n",
        "\n",
        "    entrada_do_agente_formatador = f\"Lista: {lista.lower()}\"\n",
        "\n",
        "    rascunho = call_agent(formatador, entrada_do_agente_formatador)\n",
        "\n",
        "    return rascunho.lower()"
      ],
      "metadata": {
        "id": "xIzcrIyflKX_"
      },
      "execution_count": 60,
      "outputs": []
    },
    {
      "cell_type": "code",
      "source": [
        "#########################################\n",
        "# --- Agente 3: Buscador dos preços --- #\n",
        "#########################################\n",
        "def agente_buscador_preco(itens, supermercados, endereco):\n",
        "    texto_final = \"\"\n",
        "\n",
        "    buscador_preco = Agent(\n",
        "        name=\"agente_buscador_preco\",\n",
        "        model=\"gemini-2.5-pro-preview-03-25\",\n",
        "        instruction=\"\"\"\n",
        "        Você é um assistente de pesquisa. A sua tarefa é usar a ferramenta de busca do google (google_search)\n",
        "        para buscar o preço de um item no supermercado indicado pelo usuário.\n",
        "\n",
        "        Contexto:\n",
        "        Retorne somente o nome do produto com o seu preço;\n",
        "        Se o produto estiver com o nome muito genérico, pesquise o a marca mais popular para esse item;\n",
        "        Seja direto e sucinto na analise e resposta;\n",
        "        Não precisa mostrar a sua análise, somente a resposta do retorno;\n",
        "        Em dinheiro use a formatação Brasileira para moedas;\n",
        "\n",
        "        Exemplo e passo a passo:\n",
        "        1- Verificar se o item está com o nome genérico; Exemplo: chocolate - nome generico\n",
        "        2- Pesquisar no google a marca mais popular para esse item; Exemplo: chocolate popular em vitoria - Chocolate GAROTO ao Leite 80g\n",
        "        3- Pesquisar se o valor do produto no supermercado; Exemplo: Preço do Chocolate GAROTO ao Leite 80g no supermercado Carone - R$ 6,99\n",
        "        4- Retornar o nome do produto com o seu preço; Exemplo: Chocolate GAROTO ao Leite 80g - R$ 6,99\n",
        "        5- Se não achar o valor do item para o supermercado em questão, pesquise para a Loja Lojas Americanas; Exemplo: Preço do Chocolate GAROTO ao Leite 80g na Lojas Americanas - R$ 11,85\n",
        "\n",
        "        Exemplo de retorno pelo supermercado:\n",
        "        Chocolate GAROTO ao Leite 80g - R$ 6,99 (no Supermercado Carone)\n",
        "\n",
        "        Exemplo de retorno pela Lojas Americanas:\n",
        "        Preço do Chocolate GAROTO ao Leite 80g - R$ 11,85 (na Lojas Americanas)\n",
        "\n",
        "        Exemplo de retorno final\n",
        "        Chocolate GAROTO ao Leite 80g - R$ 6,99 (no Supermercado Carone)\n",
        "\n",
        "        \"\"\",\n",
        "        description=\"Agente que busca preços de produtos no Google\",\n",
        "        tools=[google_search]\n",
        "    )\n",
        "\n",
        "    try:\n",
        "      lista_itens = ast.literal_eval(itens)\n",
        "\n",
        "      lista_supermercados = ast.literal_eval(supermercados)\n",
        "\n",
        "      if(type(lista_itens) == list and type(lista_supermercados) == list):\n",
        "        for supermercado in lista_supermercados:\n",
        "\n",
        "          texto_final = texto_final + f\"\\n +++ Supermercado: {supermercado} +++\\n\"\n",
        "\n",
        "          for item in lista_itens:\n",
        "            entrada_do_agente_buscador_preco = f\"Item:{item}\\nSupermercado: {supermercado}\\nLocalização/Endereço do supermercado: {endereco.lower()}\"\n",
        "\n",
        "            plano_do_post = call_agent(buscador_preco, entrada_do_agente_buscador_preco)\n",
        "\n",
        "            plano_do_post_minuscilo = plano_do_post.lower()\n",
        "\n",
        "            texto_final = texto_final + f\"Item: {item} \\n- Item/Preço presquisado: {plano_do_post_minuscilo}\\n\\n\"\n",
        "      else:\n",
        "        texto_final = \"Erro na busca dos itens\"\n",
        "      pass\n",
        "    except:\n",
        "      texto_final = \"Erro na busca dos itens\"\n",
        "    finally:\n",
        "        return texto_final\n",
        "        pass"
      ],
      "metadata": {
        "id": "Pl-rEmCKVpHq"
      },
      "execution_count": 63,
      "outputs": []
    },
    {
      "cell_type": "code",
      "source": [
        "#######################################################\n",
        "# --- Agente 4: Escolher a lista com melhor preço --- #\n",
        "#######################################################\n",
        "def agente_analista(lista):\n",
        "    analista = Agent(\n",
        "        name=\"agente_redator\",\n",
        "        model=\"gemini-2.0-flash\",\n",
        "        instruction=\"\"\"\n",
        "            Você é um Analista especializado em sempre slecionar a melhor lista de compras de suplermercado,\n",
        "            voce recebe uma lista de listas de compras e retorna a melhor lista.\n",
        "\n",
        "            Contexto:\n",
        "            Você recebera ums lista com varias listas de compras de supermercados diferentes;\n",
        "            Cada subi lista de supermercado está os itens com o seus valores em moeda Real;\n",
        "            Ira analizar o valor dos itens de um supermercado e comprar com os itens de outro supermercado e selecionar o supermercado que tem o maior numero de itens com o menor valor;\n",
        "            Contudo se muitos dos itens dos supermercados forem de outro local, crie uma nova lista so com os itens externos;\n",
        "            Seja direto e sucinto na análise e resposta;\n",
        "            Não precisa mostra a sua análise, somente a resposta do retorno;\n",
        "            Se a lista de entrada tiver o texto \"Erro na busca dos itens\" crie uma lista de compras vazia\n",
        "\n",
        "            Exemplo de resposta:\n",
        "            **Nova Lista (Itens Externos):**\n",
        "            *   Feijão Carioca Kicaldo 1kg - R$ 6,99 (RedeMix)\n",
        "            *   Arroz Tio João Tipo 1 1kg - R$ 7,99 (Hortifruti)\n",
        "            *   Detergente Ypê Neutro 500ml - R$ 3,28 (Lojas Americanas)\n",
        "\n",
        "             Exemplo de resposta se tiver o texto \"Erro na busca dos itens\":\n",
        "            **Lista Nula (\"Erro na busca dos itens\"):**\n",
        "            *   item 1 - R$ xx,xx (xxx)\n",
        "            *   item 2 - R$ xx,xx (xxx)\n",
        "            *   item 3 - R$ xx,xx (xxx)\n",
        "\n",
        "            \"\"\",\n",
        "        description=\"Agente analista ima lista de compras e escolhe qual tem o melhor preço\"\n",
        "    )\n",
        "\n",
        "    entrada_do_agente_analista = f\"Lista: {lista}\"\n",
        "\n",
        "    rascunho = call_agent(analista, entrada_do_agente_analista)\n",
        "    return rascunho"
      ],
      "metadata": {
        "id": "m4-5EizhVsLJ"
      },
      "execution_count": 38,
      "outputs": []
    },
    {
      "cell_type": "code",
      "source": [
        "##########################################\n",
        "# --- Agente 5: Revisor de Qualidade --- #\n",
        "##########################################\n",
        "def agente_revisor(rascunho_gerado):\n",
        "    revisor = Agent(\n",
        "        name=\"agente_revisor\",\n",
        "        model=\"gemini-2.0-flash\",\n",
        "        instruction=\"\"\"\n",
        "            Você é um Editor e Revisor de Conteúdo meticuloso, especializado em criar lista de compras e deixalas bem formatadas.\n",
        "            Revise o rascunho de uma lista de compras verificando clareza, concisão, correção e tom.\n",
        "            Se o rascunho estiver bom, responda apenas 'O rascunho está ótimo e pronto para publicar!'.\n",
        "\n",
        "            Contexto:\n",
        "            Caso haja problemas, formate ele deixando mais legível;\n",
        "            Em dinheiro use a formatação Brasileira para moedas;\n",
        "\n",
        "            Exemplo de formato:\n",
        "            Nova Lista (Itens Externos):\n",
        "            *   Feijão Carioca Kicaldo 1kg - R$ 6,99 (RedeMix)\n",
        "            *   Arroz Tio João Tipo 1 1kg - R$ 7,99 (Hortifruti)\n",
        "            *   Detergente Ypê Neutro 500ml - R$ 3,28 (Lojas Americanas)\n",
        "            \"\"\",\n",
        "        description=\"Agente revisor de lista de compras.\"\n",
        "    )\n",
        "\n",
        "    entrada_do_agente_revisor = f\"Rascunho: {rascunho_gerado}\"\n",
        "\n",
        "    texto_revisado = call_agent(revisor, entrada_do_agente_revisor)\n",
        "\n",
        "    return texto_revisado"
      ],
      "metadata": {
        "id": "JKJ3K0xBVuNs"
      },
      "execution_count": 57,
      "outputs": []
    },
    {
      "cell_type": "markdown",
      "source": [
        "\n",
        "\n",
        "---\n",
        "# Bloco de teste\n"
      ],
      "metadata": {
        "id": "scNyZVGUowgv"
      }
    },
    {
      "cell_type": "code",
      "source": [
        "###### Bloco dos teste ######\n",
        "# Teste agente 1\n",
        "\n",
        "print(\"Inicio da execução do Agente 1 \\n\")\n",
        "print(agente_buscador_supermercado(\"Vitória, ES - jardim camburui\",  date.today().strftime(\"%d/%m/%Y\")))\n",
        "print(\"Fim da execução do Agente 1 \\n\")\n",
        "\n",
        "# Teste agente 2\n",
        "\n",
        "print(\"Inicio da execução do Agente 2 \\n\")\n",
        "lista = \"\"\"\n",
        "Feijão Shampoo Ferro de Passar Sabão em pó Amaciante Biscoito recheado Picanha 1kg Arroz tipo 1\n",
        "\"\"\"\n",
        "print(agente_formatador(lista))\n",
        "print(\"Fim da execução do Agente 2 \\n\")\n",
        "\n",
        "# Teste agente 3\n",
        "\n",
        "print(\"Inicio da execução do Agente 3 \\n\")\n",
        "\n",
        "supermercados = \"\"\"\n",
        "['Supermercado Carone', 'Epa Boa Praça Supermercados']\n",
        "\"\"\"\n",
        "\n",
        "itens = \"\"\"\n",
        "['Feijão', '1kg Arroz tipo 1', 'detergente de loucça neutro 500ml']\n",
        "\"\"\"\n",
        "\n",
        "endereco = \"Vitória, ES - jardim camburui\"\n",
        "\n",
        "print(agente_buscador_preco(itens, supermercados, endereco))\n",
        "print(\"Fim da execução do Agente 3 \\n\")\n",
        "\n",
        "# Teste agente 4\n",
        "\n",
        "print(\"Inicio da execução do Agente 4 \\n\")\n",
        "\n",
        "supermercados = \"\"\"\n",
        "##### Supermercado: Supermercado Carone #####\n",
        "# Supermercado: Supermercado Carone - Item: Feijão\n",
        "- Item/Preço presquisado: Não encontrei o preço do feijão no Supermercado Carone.\n",
        "Feijão Carioca Kicaldo 1kg - R$ 6,99 (na RedeMix)\n",
        "# Supermercado: Supermercado Carone - Item: 1kg Arroz tipo 1\n",
        "- Item/Preço presquisado: Arroz Tio João Tipo 1 1kg - R$ 7,99 (Hortifruti)\n",
        "# Supermercado: Supermercado Carone - Item: detergente de loucça neutro 500ml\n",
        "- Item/Preço presquisado: Considerando a popularidade da marca, buscarei o preço do detergente Ypê Neutro 500ml.\n",
        "Detergente Ypê Neutro 500ml - Indisponível no Supermercado Carone.\n",
        "Detergente Ypê Neutro 500ml - R$ 3,28 (na Lojas Americanas)\n",
        "##### Supermercado: Epa Boa Praça Supermercados #####\n",
        "# Supermercado: Epa Boa Praça Supermercados - Item: Feijão\n",
        "- Item/Preço presquisado: Feijão Carioca Camil 1kg - R$ 6,99 (no Boa Supermercados)\n",
        "# Supermercado: Epa Boa Praça Supermercados - Item: 1kg Arroz tipo 1\n",
        "- Item/Preço presquisado: Arroz Sepé Tipo 1 1kg - R$ 8,99 (Preço aproximado na Lojas Americanas)\n",
        "# Supermercado: Epa Boa Praça Supermercados - Item: detergente de loucça neutro 500ml\n",
        "- Item/Preço presquisado: O detergente de louça neutro mais popular é o Ypê.\n",
        "Detergente Ypê Neutro 500ml - R$ 3,49 (Natural da Terra)\n",
        "Não foi possível encontrar o preço no Epa Boa Praça Supermercados.\n",
        "\"\"\"\n",
        "\n",
        "print(agente_analista(supermercados))\n",
        "\n",
        "print(\"Fim da execução do Agente 4 \\n\")\n",
        "\n",
        "# Teste agente 5\n",
        "\n",
        "print(\"Inicio da execução do Agente 5 \\n\")\n",
        "\n",
        "rascunho = \"\"\"\n",
        "**Nova Lista (Itens Externos):**\n",
        "*   Feijão Carioca Kicaldo 1kg - R$ 6,99 (RedeMix)\n",
        "*   Arroz Tio João Tipo 1 1kg - R$ 7,99 (Hortifruti)\n",
        "*   Detergente Ypê Neutro 500ml - R$ 3,28 (Lojas Americanas)\n",
        "\"\"\"\n",
        "\n",
        "print(agente_revisor(rascunho))\n",
        "\n",
        "print(\"Fim da execução do Agente 5 \\n\")"
      ],
      "metadata": {
        "id": "wvrX5lpoowC_"
      },
      "execution_count": null,
      "outputs": []
    },
    {
      "cell_type": "markdown",
      "source": [
        "\n",
        "\n",
        "---\n",
        "# Bloco Main\n"
      ],
      "metadata": {
        "id": "sKLoy63xo3Ko"
      }
    },
    {
      "cell_type": "code",
      "source": [
        "data_de_hoje = date.today().strftime(\"%d/%m/%Y\")\n",
        "\n",
        "print(\"🗒️ Iniciando o Sistema de Buscar o Melhor Preço das Compras com 5 Agentes 💸\")\n",
        "\n",
        "# --- Obter o Tópico do Usuário ---\n",
        "endereco = input(\"Para iniciar vamos precidar de duas coisas, a primeira e o seu endereço: \")\n",
        "lista = input(\"Agora precisamos da sua lista de compras: \")\n",
        "\n",
        "# Inserir lógica do sistema de agentes ################################################\n",
        "if not endereco and not lista:\n",
        "    print(\"Você esqueceu o endereço ou a lista de compras! Tente novamente\")\n",
        "else:\n",
        "    print(f\"Maravilha! Vamos então vasculhando por melhores preços pela região {endereco}\")\n",
        "\n",
        "    buscador_supermercado = agente_buscador_supermercado({endereco},  date.today().strftime(\"%d/%m/%Y\"))\n",
        "    print(\"\\n--- 📝 Resultado do Agente 1 (Buscador de Supermercado) ---\\n\")\n",
        "    display(to_markdown(buscador_supermercado))\n",
        "    print(\"--------------------------------------------------------------\")\n",
        "\n",
        "    formatador_lista_compras = agente_formatador(lista)\n",
        "    formatador_lista_supermercados = agente_formatador(buscador_supermercado)\n",
        "    print(\"\\n--- 📝 Resultado do Agente 2 (Formatador) ---\\n\")\n",
        "    display(to_markdown(f\"Lista de compras: {formatador_lista_compras} - Lista de supermercados: {formatador_lista_supermercados}\"))\n",
        "    print(\"--------------------------------------------------------------\")\n",
        "\n",
        "    buscador_preco = agente_buscador_preco(formatador_lista_compras, formatador_lista_supermercados, endereco)\n",
        "    print(\"\\n--- 📝 Resultado do Agente 3 (Buscador de preco) ---\\n\")\n",
        "    print(buscador_preco)\n",
        "    print(\"--------------------------------------------------------------\")\n",
        "\n",
        "    analise = agente_analista(buscador_preco)\n",
        "    print(\"\\n--- 📝 Resultado do Agente 4 (Analista) ---\\n\")\n",
        "    print(analise)\n",
        "    print(\"--------------------------------------------------------------\")\n",
        "\n",
        "    revisor = agente_revisor(analise)\n",
        "    print(\"\\n--- 📝 Resultado do Agente 5 (Revisor) ---\\n\")\n",
        "    print(revisor)\n",
        "    print(\"--------------------------------------------------------------\")"
      ],
      "metadata": {
        "id": "AVG6-aCiV8vT",
        "colab": {
          "base_uri": "https://localhost:8080/",
          "height": 1000
        },
        "outputId": "3055233b-eae4-4afc-f142-6e92217bd31f"
      },
      "execution_count": 66,
      "outputs": [
        {
          "output_type": "stream",
          "name": "stdout",
          "text": [
            "🗒️ Iniciando o Sistema de Buscar o Melhor Preço das Compras com 5 Agentes 💸\n",
            "Para iniciar vamos precidar de duas coisas, a primeira e o seu endereço: São Judas, São Paulo - Brasil\n",
            "Agora precisamos da sua lista de compras: Arroz Feijão Biscoito Coca cola zero 2L\n",
            "Maravilha! Vamos então vasculhando por melhores preços pela região São Judas, São Paulo - Brasil\n",
            "\n",
            "--- 📝 Resultado do Agente 1 (Buscador de Supermercado) ---\n",
            "\n"
          ]
        },
        {
          "output_type": "display_data",
          "data": {
            "text/plain": [
              "<IPython.core.display.Markdown object>"
            ],
            "text/markdown": "> Nome: Barbosa Supermercados Endereço: AV COMENDADOR ANTUNES DOS SANTOS, 750, JARDIM SAO JUDAS TADEU, São Paulo-SP.\n> Nome: Supermercados São Judas Tadeu Endereço: -\n> Nome: Supermercado Estrela de Regente Feijo Endereço: Avenida Regente Feijó, 445, SUPERMERCADO ESTRELA - Centro - Regente Feijó - SP.\n"
          },
          "metadata": {}
        },
        {
          "output_type": "stream",
          "name": "stdout",
          "text": [
            "--------------------------------------------------------------\n",
            "\n",
            "--- 📝 Resultado do Agente 2 (Formatador) ---\n",
            "\n"
          ]
        },
        {
          "output_type": "display_data",
          "data": {
            "text/plain": [
              "<IPython.core.display.Markdown object>"
            ],
            "text/markdown": "> Lista de compras: ['arroz', 'feijão', 'biscoito', 'coca cola zero 2l']\n> \n>  - Lista de supermercados: ['barbosa supermercados', 'supermercados são judas tadeu', 'supermercado estrela de regente feijó']\n"
          },
          "metadata": {}
        },
        {
          "output_type": "stream",
          "name": "stdout",
          "text": [
            "--------------------------------------------------------------\n",
            "\n",
            "--- 📝 Resultado do Agente 3 (Buscador de preco) ---\n",
            "\n",
            "\n",
            " +++ Supermercado: barbosa supermercados +++\n",
            "Item: arroz \n",
            "- Item/Preço presquisado: arroz raroz t1 5kg - r$ 16,99 (no barbosa supermercados).\n",
            "\n",
            "\n",
            "Item: feijão \n",
            "- Item/Preço presquisado: feijão carioca kicaldo 1kg - r$ 7,69 (no quartetto supermercados).\n",
            "feijão carioca kicaldo 1kg - r$ 7,99 (no supermercado san sato).\n",
            "feijão carioca kicaldo 1kg - r$ 6,99 (no supermercado pague menos).\n",
            "\n",
            "\n",
            "Item: biscoito \n",
            "- Item/Preço presquisado: biscoito negresco coberto chocolate 120g - r$ 7,99 (no barbosa supermercados).\n",
            "\n",
            "\n",
            "Item: coca cola zero 2l \n",
            "- Item/Preço presquisado: coca-cola zero 2l - r$ 11,99 (no supermercado barbosa).\n",
            "\n",
            "\n",
            "\n",
            " +++ Supermercado: supermercados são judas tadeu +++\n",
            "Item: arroz \n",
            "- Item/Preço presquisado: arroz empório são joão - r$ 25,00 (no supermercados são judas tadeu)\n",
            "\n",
            "\n",
            "Item: feijão \n",
            "- Item/Preço presquisado: feijão carioca kicaldo 1kg - r$ 6,99 (no supermercado são judas tadeu)\n",
            "\n",
            "\n",
            "Item: biscoito \n",
            "- Item/Preço presquisado: biscoito marilan maizena pacote 350g - r$ 6,89 (no são judas tadeu supermercados)\n",
            "\n",
            "\n",
            "Item: coca cola zero 2l \n",
            "- Item/Preço presquisado: coca-cola sem açúcar 2l - r$ 11,33 (no supermercados são judas tadeu)\n",
            "\n",
            "\n",
            "\n",
            " +++ Supermercado: supermercado estrela de regente feijó +++\n",
            "Item: arroz \n",
            "- Item/Preço presquisado: arroz tio laut t1 5kg - r$ 21,89 (no supermercado estrela)\n",
            "\n",
            "como o supermercado estrela de regente feijó não possui loja online com os preços disponíveis para a unidade específica de são judas, são paulo, e não foi possível encontrar o preço do arroz mais popular (camil ou tio joão) nesse supermercado específico, apresento o preço de um arroz similar (tio laut) conforme encontrado em uma das lojas online da rede supermercado estrela.\n",
            "\n",
            "\n",
            "Item: feijão \n",
            "- Item/Preço presquisado: o feijão é um item genérico. as marcas de feijão mais populares em são paulo são camil, kicaldo e qualitá.\n",
            "\n",
            "feijão carioca camil t1 1kg - r$ 6,99 (no supermercado pague menos)\n",
            "\n",
            "\n",
            "Item: biscoito \n",
            "- Item/Preço presquisado: biscoito maizena piraquê 175g - preço não disponível (no supermercado estrela de regente feijó) \n",
            "biscoito maizena piraquê 175g - r$ 4,77 (na lojas americanas).\n",
            "\n",
            "\n",
            "Item: coca cola zero 2l \n",
            "- Item/Preço presquisado: coca cola zero 2l - r$ 10,99 (na lojas americanas)\n",
            "\n",
            "\n",
            "\n",
            "--------------------------------------------------------------\n",
            "\n",
            "--- 📝 Resultado do Agente 4 (Analista) ---\n",
            "\n",
            "**Nova Lista (Itens Externos):**\n",
            "*   Arroz Tio Laut T1 5kg - R$ 21,89 (Supermercado Estrela de Regente Feijó)\n",
            "*   Feijão Carioca Camil T1 1kg - R$ 6,99 (Supermercado Pague Menos)\n",
            "*   Biscoito Maizena Piraquê 175g - R$ 4,77 (Lojas Americanas)\n",
            "*   Coca Cola Zero 2L - R$ 10,99 (Lojas Americanas)\n",
            "\n",
            "--------------------------------------------------------------\n",
            "\n",
            "--- 📝 Resultado do Agente 5 (Revisor) ---\n",
            "\n",
            "O rascunho está ótimo e pronto para publicar!\n",
            "\n",
            "\n",
            "--------------------------------------------------------------\n"
          ]
        }
      ]
    }
  ]
}